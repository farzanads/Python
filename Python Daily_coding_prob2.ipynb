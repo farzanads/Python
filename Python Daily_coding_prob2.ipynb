{
 "cells": [
  {
   "cell_type": "code",
   "execution_count": 1,
   "id": "dcf40ae6",
   "metadata": {},
   "outputs": [],
   "source": [
    "import pandas as pd\n",
    "import numpy as np"
   ]
  },
  {
   "cell_type": "code",
   "execution_count": 41,
   "id": "2ecdd22b",
   "metadata": {},
   "outputs": [],
   "source": [
    "def median_seq(lst):\n",
    "    median_temp = 0\n",
    "    \n",
    "    lst_temp =[]\n",
    "    for i in range (len(lst)):\n",
    "        temp = 0\n",
    "        for j in range (len(lst)):\n",
    "            if j <= i:\n",
    "                temp = temp+lst[j]\n",
    "        #print (temp)\n",
    "        median_temp = temp/(i+1)\n",
    "        #print(median_temp)\n",
    "        lst_temp.append(median_temp)\n",
    "    print(lst_temp)\n",
    "\n",
    "                \n",
    "            \n",
    "        "
   ]
  },
  {
   "cell_type": "code",
   "execution_count": 42,
   "id": "0f229641",
   "metadata": {},
   "outputs": [
    {
     "name": "stdout",
     "output_type": "stream",
     "text": [
      "[2.0, 1.5, 2.6666666666666665, 2.75, 3.4, 4.166666666666667]\n"
     ]
    }
   ],
   "source": [
    "median_seq([2,1,5,3,6,8])"
   ]
  },
  {
   "cell_type": "code",
   "execution_count": 44,
   "id": "837c2cf0",
   "metadata": {},
   "outputs": [],
   "source": [
    "def my_str(str):\n",
    "    for i in range (len(str)):\n",
    "        print(str[i])"
   ]
  },
  {
   "cell_type": "code",
   "execution_count": 46,
   "id": "773be9de",
   "metadata": {},
   "outputs": [
    {
     "name": "stdout",
     "output_type": "stream",
     "text": [
      "f\n",
      "a\n",
      "r\n",
      "z\n",
      "a\n",
      "n\n",
      "a\n"
     ]
    }
   ],
   "source": [
    "my_str('farzana')"
   ]
  },
  {
   "cell_type": "code",
   "execution_count": null,
   "id": "add46a55",
   "metadata": {},
   "outputs": [],
   "source": []
  },
  {
   "cell_type": "code",
   "execution_count": null,
   "id": "94e78aa1",
   "metadata": {},
   "outputs": [],
   "source": []
  },
  {
   "cell_type": "code",
   "execution_count": null,
   "id": "3d688542",
   "metadata": {},
   "outputs": [],
   "source": []
  },
  {
   "cell_type": "code",
   "execution_count": null,
   "id": "a1c650ec",
   "metadata": {},
   "outputs": [],
   "source": []
  },
  {
   "cell_type": "code",
   "execution_count": null,
   "id": "e7f226b5",
   "metadata": {},
   "outputs": [],
   "source": []
  },
  {
   "cell_type": "code",
   "execution_count": null,
   "id": "d7263d33",
   "metadata": {},
   "outputs": [],
   "source": []
  }
 ],
 "metadata": {
  "kernelspec": {
   "display_name": "Python 3",
   "language": "python",
   "name": "python3"
  },
  "language_info": {
   "codemirror_mode": {
    "name": "ipython",
    "version": 3
   },
   "file_extension": ".py",
   "mimetype": "text/x-python",
   "name": "python",
   "nbconvert_exporter": "python",
   "pygments_lexer": "ipython3",
   "version": "3.8.8"
  }
 },
 "nbformat": 4,
 "nbformat_minor": 5
}
