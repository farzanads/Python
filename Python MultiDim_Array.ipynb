{
 "cells": [
  {
   "cell_type": "code",
   "execution_count": 2,
   "id": "d2fb3a3a",
   "metadata": {},
   "outputs": [],
   "source": [
    "my_list = [11,22,33,44,55,56,66,77,88,99]"
   ]
  },
  {
   "cell_type": "code",
   "execution_count": 3,
   "id": "f424007c",
   "metadata": {},
   "outputs": [
    {
     "data": {
      "text/plain": [
       "list"
      ]
     },
     "execution_count": 3,
     "metadata": {},
     "output_type": "execute_result"
    }
   ],
   "source": [
    "type(my_list)"
   ]
  },
  {
   "cell_type": "code",
   "execution_count": 5,
   "id": "ec6e10de",
   "metadata": {},
   "outputs": [],
   "source": [
    "import numpy as np"
   ]
  },
  {
   "cell_type": "code",
   "execution_count": 6,
   "id": "a3ff8143",
   "metadata": {},
   "outputs": [],
   "source": [
    "arr = np.array(my_list)"
   ]
  },
  {
   "cell_type": "code",
   "execution_count": 7,
   "id": "6fa71686",
   "metadata": {},
   "outputs": [
    {
     "data": {
      "text/plain": [
       "numpy.ndarray"
      ]
     },
     "execution_count": 7,
     "metadata": {},
     "output_type": "execute_result"
    }
   ],
   "source": [
    "type(arr)"
   ]
  },
  {
   "cell_type": "code",
   "execution_count": 8,
   "id": "b5327ac1",
   "metadata": {},
   "outputs": [
    {
     "data": {
      "text/plain": [
       "array([11, 22, 33, 44, 55, 56, 66, 77, 88, 99])"
      ]
     },
     "execution_count": 8,
     "metadata": {},
     "output_type": "execute_result"
    }
   ],
   "source": [
    "arr"
   ]
  },
  {
   "cell_type": "code",
   "execution_count": 9,
   "id": "7130dcc7",
   "metadata": {},
   "outputs": [
    {
     "name": "stdout",
     "output_type": "stream",
     "text": [
      "[11 22 33 44 55 56 66 77 88 99]\n"
     ]
    }
   ],
   "source": [
    "print(arr)"
   ]
  },
  {
   "cell_type": "code",
   "execution_count": 10,
   "id": "c7d69eef",
   "metadata": {},
   "outputs": [
    {
     "data": {
      "text/plain": [
       "(10,)"
      ]
     },
     "execution_count": 10,
     "metadata": {},
     "output_type": "execute_result"
    }
   ],
   "source": [
    "arr.shape"
   ]
  },
  {
   "cell_type": "code",
   "execution_count": 11,
   "id": "be7c0ddd",
   "metadata": {},
   "outputs": [
    {
     "data": {
      "text/plain": [
       "array([[11, 22, 33, 44, 55],\n",
       "       [56, 66, 77, 88, 99]])"
      ]
     },
     "execution_count": 11,
     "metadata": {},
     "output_type": "execute_result"
    }
   ],
   "source": [
    "arr.reshape(2,5)"
   ]
  },
  {
   "cell_type": "code",
   "execution_count": 12,
   "id": "7a44f735",
   "metadata": {},
   "outputs": [],
   "source": [
    "mylst1 = [3,1,2,4,4]\n",
    "mylst2 = [1,4,5,7,4]\n",
    "mylst3 = [5,3,7,9,1]\n",
    "\n",
    "myarr = np.array([mylst1,mylst2,mylst3])\n"
   ]
  },
  {
   "cell_type": "code",
   "execution_count": 13,
   "id": "23953cc2",
   "metadata": {},
   "outputs": [
    {
     "data": {
      "text/plain": [
       "array([[3, 1, 2, 4, 4],\n",
       "       [1, 4, 5, 7, 4],\n",
       "       [5, 3, 7, 9, 1]])"
      ]
     },
     "execution_count": 13,
     "metadata": {},
     "output_type": "execute_result"
    }
   ],
   "source": [
    "myarr"
   ]
  },
  {
   "cell_type": "code",
   "execution_count": 14,
   "id": "5c2045f1",
   "metadata": {},
   "outputs": [
    {
     "data": {
      "text/plain": [
       "(3, 5)"
      ]
     },
     "execution_count": 14,
     "metadata": {},
     "output_type": "execute_result"
    }
   ],
   "source": [
    "myarr.shape"
   ]
  },
  {
   "cell_type": "code",
   "execution_count": 15,
   "id": "cb7ea278",
   "metadata": {},
   "outputs": [
    {
     "data": {
      "text/plain": [
       "array([[3, 1, 2],\n",
       "       [4, 4, 1],\n",
       "       [4, 5, 7],\n",
       "       [4, 5, 3],\n",
       "       [7, 9, 1]])"
      ]
     },
     "execution_count": 15,
     "metadata": {},
     "output_type": "execute_result"
    }
   ],
   "source": [
    "myarr.reshape(5,3)"
   ]
  },
  {
   "cell_type": "code",
   "execution_count": 17,
   "id": "714a3b39",
   "metadata": {},
   "outputs": [
    {
     "data": {
      "text/plain": [
       "array([[3, 1, 2, 4, 4],\n",
       "       [1, 4, 5, 7, 4],\n",
       "       [5, 3, 7, 9, 1]])"
      ]
     },
     "execution_count": 17,
     "metadata": {},
     "output_type": "execute_result"
    }
   ],
   "source": [
    "myarr.reshape(3,5)"
   ]
  },
  {
   "cell_type": "code",
   "execution_count": 18,
   "id": "a4602790",
   "metadata": {},
   "outputs": [
    {
     "data": {
      "text/plain": [
       "array([[3, 1, 2, 4, 4],\n",
       "       [1, 4, 5, 7, 4],\n",
       "       [5, 3, 7, 9, 1]])"
      ]
     },
     "execution_count": 18,
     "metadata": {},
     "output_type": "execute_result"
    }
   ],
   "source": [
    "myarr[:,:]"
   ]
  },
  {
   "cell_type": "code",
   "execution_count": 35,
   "id": "6a509b18",
   "metadata": {},
   "outputs": [
    {
     "data": {
      "text/plain": [
       "array([[4, 5, 7]])"
      ]
     },
     "execution_count": 35,
     "metadata": {},
     "output_type": "execute_result"
    }
   ],
   "source": [
    "myarr[1:2,1:4]"
   ]
  },
  {
   "cell_type": "code",
   "execution_count": 33,
   "id": "6f5027fb",
   "metadata": {},
   "outputs": [
    {
     "data": {
      "text/plain": [
       "array([[5, 7],\n",
       "       [7, 9]])"
      ]
     },
     "execution_count": 33,
     "metadata": {},
     "output_type": "execute_result"
    }
   ],
   "source": [
    "myarr[1:, 2:4]"
   ]
  },
  {
   "cell_type": "code",
   "execution_count": 40,
   "id": "43bb0546",
   "metadata": {},
   "outputs": [],
   "source": [
    "arr=np.arange(0,100, step=5)"
   ]
  },
  {
   "cell_type": "code",
   "execution_count": 41,
   "id": "df9992c4",
   "metadata": {},
   "outputs": [
    {
     "data": {
      "text/plain": [
       "array([ 0,  5, 10, 15, 20, 25, 30, 35, 40, 45, 50, 55, 60, 65, 70, 75, 80,\n",
       "       85, 90, 95])"
      ]
     },
     "execution_count": 41,
     "metadata": {},
     "output_type": "execute_result"
    }
   ],
   "source": [
    "arr"
   ]
  },
  {
   "cell_type": "code",
   "execution_count": 42,
   "id": "56529468",
   "metadata": {},
   "outputs": [
    {
     "data": {
      "text/plain": [
       "array([0.        , 0.02040816, 0.04081633, 0.06122449, 0.08163265,\n",
       "       0.10204082, 0.12244898, 0.14285714, 0.16326531, 0.18367347,\n",
       "       0.20408163, 0.2244898 , 0.24489796, 0.26530612, 0.28571429,\n",
       "       0.30612245, 0.32653061, 0.34693878, 0.36734694, 0.3877551 ,\n",
       "       0.40816327, 0.42857143, 0.44897959, 0.46938776, 0.48979592,\n",
       "       0.51020408, 0.53061224, 0.55102041, 0.57142857, 0.59183673,\n",
       "       0.6122449 , 0.63265306, 0.65306122, 0.67346939, 0.69387755,\n",
       "       0.71428571, 0.73469388, 0.75510204, 0.7755102 , 0.79591837,\n",
       "       0.81632653, 0.83673469, 0.85714286, 0.87755102, 0.89795918,\n",
       "       0.91836735, 0.93877551, 0.95918367, 0.97959184, 1.        ])"
      ]
     },
     "execution_count": 42,
     "metadata": {},
     "output_type": "execute_result"
    }
   ],
   "source": [
    "np.linspace(0,1,50)"
   ]
  },
  {
   "cell_type": "code",
   "execution_count": 44,
   "id": "13237215",
   "metadata": {},
   "outputs": [],
   "source": [
    "arr[1]= 100"
   ]
  },
  {
   "cell_type": "code",
   "execution_count": 45,
   "id": "ce9100d5",
   "metadata": {},
   "outputs": [
    {
     "data": {
      "text/plain": [
       "array([  0, 100,  10,  15,  20,  25,  30,  35,  40,  45,  50,  55,  60,\n",
       "        65,  70,  75,  80,  85,  90,  95])"
      ]
     },
     "execution_count": 45,
     "metadata": {},
     "output_type": "execute_result"
    }
   ],
   "source": [
    "arr"
   ]
  },
  {
   "cell_type": "code",
   "execution_count": 48,
   "id": "90486861",
   "metadata": {},
   "outputs": [],
   "source": [
    "arr1 = np.ones((3,3,3))"
   ]
  },
  {
   "cell_type": "code",
   "execution_count": 50,
   "id": "316e34fe",
   "metadata": {},
   "outputs": [],
   "source": [
    "arr3 = np.arange(0,27).reshape(3,3,3)"
   ]
  },
  {
   "cell_type": "code",
   "execution_count": 51,
   "id": "cad13199",
   "metadata": {},
   "outputs": [
    {
     "data": {
      "text/plain": [
       "array([[[ 0,  1,  2],\n",
       "        [ 3,  4,  5],\n",
       "        [ 6,  7,  8]],\n",
       "\n",
       "       [[ 9, 10, 11],\n",
       "        [12, 13, 14],\n",
       "        [15, 16, 17]],\n",
       "\n",
       "       [[18, 19, 20],\n",
       "        [21, 22, 23],\n",
       "        [24, 25, 26]]])"
      ]
     },
     "execution_count": 51,
     "metadata": {},
     "output_type": "execute_result"
    }
   ],
   "source": [
    "arr3"
   ]
  },
  {
   "cell_type": "code",
   "execution_count": 54,
   "id": "9c92c4e9",
   "metadata": {},
   "outputs": [
    {
     "data": {
      "text/plain": [
       "array([[[[ 1.22571516,  0.09096231,  1.26583871],\n",
       "         [-0.20883788,  0.06491828, -0.17568897],\n",
       "         [-0.38788615,  1.48221651, -0.72232006]],\n",
       "\n",
       "        [[-0.1493353 , -0.27563384,  0.37401268],\n",
       "         [ 0.98795256, -0.85935292,  0.27995589],\n",
       "         [ 1.02837965, -0.56550816,  0.23675436]],\n",
       "\n",
       "        [[-0.29299456,  0.2386607 ,  0.06250931],\n",
       "         [-2.21906266, -0.60406105,  0.78806157],\n",
       "         [-0.14824503,  0.41823556,  0.59979205]]],\n",
       "\n",
       "\n",
       "       [[[ 0.51625428,  0.08921357,  0.42129362],\n",
       "         [ 2.14109749, -0.09241638,  0.18420026],\n",
       "         [-1.85256257,  1.07875201,  0.24094779]],\n",
       "\n",
       "        [[ 0.5364708 , -0.27563791, -0.43746499],\n",
       "         [ 0.49512924, -0.98374207,  1.50642736],\n",
       "         [ 0.59202817, -0.11067735,  0.04682069]],\n",
       "\n",
       "        [[-0.58109694,  1.11927343,  0.70480408],\n",
       "         [-0.37423188,  0.53040216,  0.36624843],\n",
       "         [ 2.13792831,  2.32987899, -0.05603762]]],\n",
       "\n",
       "\n",
       "       [[[-1.66841016, -1.23306324, -0.46191273],\n",
       "         [ 0.54790069, -1.10864711, -0.45590498],\n",
       "         [ 0.87260972, -0.38547913, -0.27841699]],\n",
       "\n",
       "        [[-0.49623563, -1.42949307,  0.76828661],\n",
       "         [ 0.20741917,  0.77788806,  1.61438747],\n",
       "         [ 0.31984008, -1.14389718, -0.69916007]],\n",
       "\n",
       "        [[ 0.6001317 , -0.52761365, -0.5184707 ],\n",
       "         [-1.27822381, -0.56238458, -0.04817074],\n",
       "         [ 1.05968328, -0.83214546,  0.07930396]]]])"
      ]
     },
     "execution_count": 54,
     "metadata": {},
     "output_type": "execute_result"
    }
   ],
   "source": [
    "np.random.randn(3,3,3,3)"
   ]
  },
  {
   "cell_type": "code",
   "execution_count": 60,
   "id": "66da3cbd",
   "metadata": {},
   "outputs": [
    {
     "data": {
      "text/plain": [
       "array([[36, 33],\n",
       "       [58, 94],\n",
       "       [63, 19],\n",
       "       [79, 89]])"
      ]
     },
     "execution_count": 60,
     "metadata": {},
     "output_type": "execute_result"
    }
   ],
   "source": [
    "np.random.randint(0,100,8).reshape(4,2)"
   ]
  },
  {
   "cell_type": "code",
   "execution_count": 61,
   "id": "fd88aebb",
   "metadata": {},
   "outputs": [],
   "source": [
    "arr_plot  = np.random.randn(4,4)"
   ]
  },
  {
   "cell_type": "code",
   "execution_count": 62,
   "id": "44aa0949",
   "metadata": {},
   "outputs": [
    {
     "data": {
      "text/plain": [
       "array([[ 0.00285955, -0.15049044, -2.35261955, -0.19657872],\n",
       "       [-0.68450426,  0.31160589,  0.4191379 , -0.03146254],\n",
       "       [ 0.42500249, -1.21762979, -1.17828878, -1.26151493],\n",
       "       [-0.83639952, -1.40369052, -0.91524606,  0.13472065]])"
      ]
     },
     "execution_count": 62,
     "metadata": {},
     "output_type": "execute_result"
    }
   ],
   "source": [
    "arr_plot"
   ]
  },
  {
   "cell_type": "code",
   "execution_count": 71,
   "id": "00014f2d",
   "metadata": {},
   "outputs": [
    {
     "data": {
      "text/plain": [
       "array([[[95, 41],\n",
       "        [70, 72]],\n",
       "\n",
       "       [[65, 85],\n",
       "        [52, 78]]])"
      ]
     },
     "execution_count": 71,
     "metadata": {},
     "output_type": "execute_result"
    }
   ],
   "source": [
    "np.random.randint(0,100,8).reshape(2,2,2)"
   ]
  },
  {
   "cell_type": "code",
   "execution_count": null,
   "id": "fea26f12",
   "metadata": {},
   "outputs": [],
   "source": []
  },
  {
   "cell_type": "code",
   "execution_count": null,
   "id": "4d5091ab",
   "metadata": {},
   "outputs": [],
   "source": []
  },
  {
   "cell_type": "code",
   "execution_count": 65,
   "id": "3d07af49",
   "metadata": {},
   "outputs": [],
   "source": [
    "import seaborn as sns\n",
    "import pandas as pd"
   ]
  },
  {
   "cell_type": "code",
   "execution_count": 77,
   "id": "93add26d",
   "metadata": {},
   "outputs": [
    {
     "name": "stderr",
     "output_type": "stream",
     "text": [
      "C:\\Users\\farjanaba\\Anaconda3\\lib\\site-packages\\seaborn\\distributions.py:2557: FutureWarning: `distplot` is a deprecated function and will be removed in a future version. Please adapt your code to use either `displot` (a figure-level function with similar flexibility) or `histplot` (an axes-level function for histograms).\n",
      "  warnings.warn(msg, FutureWarning)\n"
     ]
    },
    {
     "data": {
      "text/plain": [
       "<AxesSubplot:ylabel='Density'>"
      ]
     },
     "execution_count": 77,
     "metadata": {},
     "output_type": "execute_result"
    },
    {
     "data": {
      "image/png": "[encoded data removed]",
      "text/plain": [
       "<Figure size 432x288 with 1 Axes>"
      ]
     },
     "metadata": {
      "needs_background": "light"
     },
     "output_type": "display_data"
    }
   ],
   "source": [
    "sns.distplot(pd.DataFrame(arr_plot.reshape(1,16)))"
   ]
  },
  {
   "cell_type": "code",
   "execution_count": null,
   "id": "a0a8969a",
   "metadata": {},
   "outputs": [],
   "source": []
  },
  {
   "cell_type": "code",
   "execution_count": null,
   "id": "6ee2431d",
   "metadata": {},
   "outputs": [],
   "source": []
  },
  {
   "cell_type": "code",
   "execution_count": null,
   "id": "5efc2c91",
   "metadata": {},
   "outputs": [],
   "source": []
  },
  {
   "cell_type": "code",
   "execution_count": null,
   "id": "14d02643",
   "metadata": {},
   "outputs": [],
   "source": []
  },
  {
   "cell_type": "code",
   "execution_count": null,
   "id": "34c9a427",
   "metadata": {},
   "outputs": [],
   "source": []
  },
  {
   "cell_type": "code",
   "execution_count": null,
   "id": "76b6d1f9",
   "metadata": {},
   "outputs": [],
   "source": []
  }
 ],
 "metadata": {
  "kernelspec": {
   "display_name": "Python 3",
   "language": "python",
   "name": "python3"
  },
  "language_info": {
   "codemirror_mode": {
    "name": "ipython",
    "version": 3
   },
   "file_extension": ".py",
   "mimetype": "text/x-python",
   "name": "python",
   "nbconvert_exporter": "python",
   "pygments_lexer": "ipython3",
   "version": "3.8.8"
  }
 },
 "nbformat": 4,
 "nbformat_minor": 5
}
