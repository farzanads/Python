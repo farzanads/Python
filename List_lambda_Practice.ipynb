{
 "cells": [
  {
   "cell_type": "code",
   "execution_count": 4,
   "id": "4422f85c",
   "metadata": {},
   "outputs": [],
   "source": [
    "def e_or_o(num):\n",
    "    if num%2==0:\n",
    "        return \"The {} is even\".format(num)\n",
    "    else:\n",
    "        return \"The {} is odd\".format(num)\n",
    "\n",
    "    "
   ]
  },
  {
   "cell_type": "code",
   "execution_count": 5,
   "id": "58e5e424",
   "metadata": {},
   "outputs": [
    {
     "data": {
      "text/plain": [
       "'The 29 is odd'"
      ]
     },
     "execution_count": 5,
     "metadata": {},
     "output_type": "execute_result"
    }
   ],
   "source": [
    "e_or_o(29)"
   ]
  },
  {
   "cell_type": "code",
   "execution_count": 8,
   "id": "795dac2b",
   "metadata": {},
   "outputs": [],
   "source": [
    "lst = [11,22,33,1,2,3,76,37,8,345,8764]"
   ]
  },
  {
   "cell_type": "code",
   "execution_count": 10,
   "id": "d52c8117",
   "metadata": {},
   "outputs": [
    {
     "name": "stdout",
     "output_type": "stream",
     "text": [
      "The 11 is odd\n",
      "The 22 is even\n",
      "The 33 is odd\n",
      "The 1 is odd\n",
      "The 2 is even\n",
      "The 3 is odd\n",
      "The 76 is even\n",
      "The 37 is odd\n",
      "The 8 is even\n",
      "The 345 is odd\n",
      "The 8764 is even\n"
     ]
    }
   ],
   "source": [
    "for i in lst:\n",
    "    val = e_or_o(i)\n",
    "    print(val)\n"
   ]
  },
  {
   "cell_type": "code",
   "execution_count": 12,
   "id": "a49baf73",
   "metadata": {},
   "outputs": [
    {
     "data": {
      "text/plain": [
       "['The 11 is odd',\n",
       " 'The 22 is even',\n",
       " 'The 33 is odd',\n",
       " 'The 1 is odd',\n",
       " 'The 2 is even',\n",
       " 'The 3 is odd',\n",
       " 'The 76 is even',\n",
       " 'The 37 is odd',\n",
       " 'The 8 is even',\n",
       " 'The 345 is odd',\n",
       " 'The 8764 is even']"
      ]
     },
     "execution_count": 12,
     "metadata": {},
     "output_type": "execute_result"
    }
   ],
   "source": [
    "list(map(e_or_o, lst))"
   ]
  },
  {
   "cell_type": "code",
   "execution_count": 14,
   "id": "089421ce",
   "metadata": {},
   "outputs": [],
   "source": [
    "myval = lambda a:a%2==0"
   ]
  },
  {
   "cell_type": "code",
   "execution_count": 15,
   "id": "c6e32c4b",
   "metadata": {},
   "outputs": [
    {
     "data": {
      "text/plain": [
       "False"
      ]
     },
     "execution_count": 15,
     "metadata": {},
     "output_type": "execute_result"
    }
   ],
   "source": [
    "myval(29)"
   ]
  },
  {
   "cell_type": "code",
   "execution_count": 16,
   "id": "61687a7d",
   "metadata": {},
   "outputs": [],
   "source": [
    "myadd = lambda a,b,c: a+b+c"
   ]
  },
  {
   "cell_type": "code",
   "execution_count": 17,
   "id": "2eedc630",
   "metadata": {},
   "outputs": [
    {
     "data": {
      "text/plain": [
       "256"
      ]
     },
     "execution_count": 17,
     "metadata": {},
     "output_type": "execute_result"
    }
   ],
   "source": [
    "myadd(12,232,12)"
   ]
  },
  {
   "cell_type": "code",
   "execution_count": null,
   "id": "4132cbc3",
   "metadata": {},
   "outputs": [],
   "source": []
  }
 ],
 "metadata": {
  "kernelspec": {
   "display_name": "Python 3",
   "language": "python",
   "name": "python3"
  },
  "language_info": {
   "codemirror_mode": {
    "name": "ipython",
    "version": 3
   },
   "file_extension": ".py",
   "mimetype": "text/x-python",
   "name": "python",
   "nbconvert_exporter": "python",
   "pygments_lexer": "ipython3",
   "version": "3.8.8"
  }
 },
 "nbformat": 4,
 "nbformat_minor": 5
}
